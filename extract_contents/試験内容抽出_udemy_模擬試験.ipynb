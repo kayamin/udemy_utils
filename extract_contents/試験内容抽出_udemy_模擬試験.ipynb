{
 "cells": [
  {
   "cell_type": "markdown",
   "metadata": {},
   "source": [
    "# udmey 模擬試験 の質問と回答を抽出"
   ]
  },
  {
   "cell_type": "code",
   "execution_count": null,
   "metadata": {
    "collapsed": false
   },
   "outputs": [],
   "source": [
    "import re\n",
    "import pandas as pd\n",
    "from bs4 import BeautifulSoup"
   ]
  },
  {
   "cell_type": "code",
   "execution_count": null,
   "metadata": {
    "collapsed": true
   },
   "outputs": [],
   "source": [
    "# 問題の html をパース\n",
    "soup = BeautifulSoup(open(\"./模擬試験3.html\"), 'html.parser')"
   ]
  },
  {
   "cell_type": "code",
   "execution_count": null,
   "metadata": {
    "collapsed": true
   },
   "outputs": [],
   "source": [
    "# 問題部分を取得\n",
    "questions = soup.findAll(class_=re.compile('^detailed-result-panel--panel-row*'))"
   ]
  },
  {
   "cell_type": "code",
   "execution_count": null,
   "metadata": {
    "collapsed": false
   },
   "outputs": [],
   "source": [
    "len(questions)"
   ]
  },
  {
   "cell_type": "code",
   "execution_count": null,
   "metadata": {
    "collapsed": false
   },
   "outputs": [],
   "source": [
    "questions[1]"
   ]
  },
  {
   "cell_type": "code",
   "execution_count": null,
   "metadata": {
    "collapsed": true
   },
   "outputs": [],
   "source": [
    "# 選択してしまった 間違いの選択肢を抽出する\n",
    "def find_checked_wrong_options(q):\n",
    "    checked_option_list = [o.parent.parent for o in q.findAll(\"input\") if (\"checked\" in o.attrs.keys())]\n",
    "    checked_wrong_option_list = [o.text for o in checked_option_list if o.text[-11:] == \"(Incorrect)\" \n",
    "                                 or o.text[-5:]=='(不正解)']\n",
    "\n",
    "    return checked_wrong_option_list"
   ]
  },
  {
   "cell_type": "code",
   "execution_count": null,
   "metadata": {
    "collapsed": true
   },
   "outputs": [],
   "source": [
    "# 問題の本文を抽出する\n",
    "def extract_question_body(question):\n",
    "    q_body = question.findAll(class_=re.compile(\"mc-quiz-question--question-prompt*\"))[0].text\n",
    "\n",
    "    return q_body"
   ]
  },
  {
   "cell_type": "code",
   "execution_count": null,
   "metadata": {
    "collapsed": true
   },
   "outputs": [],
   "source": [
    "# 選択した選択肢と解答を抽出する\n",
    "def extract_answer_body(question):\n",
    "    a_list = question.findAll(class_=re.compile(\"mc-quiz-answer--correct--*\"))\n",
    "    # 上記正規表現のクラス指定方法だとネストされた部分を重複して抽出してしまうので間引く\n",
    "    answers = [a.text for i, a in enumerate(a_list) if i%2 == 0 ]\n",
    "    checked_wrong_options = find_checked_wrong_options(question)\n",
    "    \n",
    "    # 解答と，選択してしまった間違いの選択肢を返す\n",
    "    return \"\\n\\n\".join(answers + checked_wrong_options)    "
   ]
  },
  {
   "cell_type": "code",
   "execution_count": null,
   "metadata": {
    "collapsed": true
   },
   "outputs": [],
   "source": [
    "# 問題に対する正誤を抽出する\n",
    "def extract_correctness(question):\n",
    "    return \"正\" if (question.findAll('span')[1].text ==\"正解\" or question.findAll('span')[1].text ==\"Correct\")  else \"誤\""
   ]
  },
  {
   "cell_type": "code",
   "execution_count": null,
   "metadata": {
    "collapsed": false
   },
   "outputs": [],
   "source": [
    "# 定義した関数を用いてコンテンツを抽出\n",
    "contents = [\n",
    "    {\n",
    "        \"番号\": i+1, \n",
    "        \"正誤\": extract_correctness(q),\n",
    "        \"質問\": extract_question_body(q),\n",
    "        \"分類\": \"\",\n",
    "        \"解答・回答\": extract_answer_body(q),\n",
    "        \"必要な知識\": \"\",\n",
    "        \"備考\": \"\"\n",
    "    }\n",
    "    for (i, q) in enumerate(questions[1:])\n",
    "]\n",
    "\n",
    "columns = [\"番号\", \"正誤\", \"質問\", \"分類\", \"解答・回答\", \"必要な知識\", \"備考\"]\n",
    "\n",
    "pd.DataFrame(contents, columns=columns)"
   ]
  },
  {
   "cell_type": "code",
   "execution_count": null,
   "metadata": {
    "collapsed": false
   },
   "outputs": [],
   "source": [
    "pd.DataFrame(contents, columns=columns).to_csv(\"output.csv\", encoding='utf-8', index=False)"
   ]
  },
  {
   "cell_type": "code",
   "execution_count": null,
   "metadata": {
    "collapsed": true
   },
   "outputs": [],
   "source": []
  }
 ],
 "metadata": {
  "kernelspec": {
   "display_name": "Python 3",
   "language": "python",
   "name": "python3"
  },
  "language_info": {
   "codemirror_mode": {
    "name": "ipython",
    "version": 3
   },
   "file_extension": ".py",
   "mimetype": "text/x-python",
   "name": "python",
   "nbconvert_exporter": "python",
   "pygments_lexer": "ipython3",
   "version": "3.6.1"
  }
 },
 "nbformat": 4,
 "nbformat_minor": 2
}
